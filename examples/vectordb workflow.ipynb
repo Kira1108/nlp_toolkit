{
 "cells": [
  {
   "cell_type": "code",
   "execution_count": 1,
   "metadata": {},
   "outputs": [
    {
     "name": "stdout",
     "output_type": "stream",
     "text": [
      "Using http proxy: http://127.0.0.1:8001\n",
      "Turn on VPN with corresponding proxy.\n"
     ]
    }
   ],
   "source": [
    "import pandas as pd\n",
    "from nlp_toolkit import (\n",
    "    set_proxy,\n",
    "    SentenceEmbedder,\n",
    "    make_chroma,\n",
    "    insert_df_collection\n",
    ")\n",
    "\n",
    "import chromadb\n",
    "\n",
    "# if your internet is limited, you can use a vpn to access the internet\n",
    "# this function will set the proxy in the current environment\n",
    "set_proxy()"
   ]
  },
  {
   "cell_type": "code",
   "execution_count": 2,
   "metadata": {},
   "outputs": [
    {
     "data": {
      "text/html": [
       "<div>\n",
       "<style scoped>\n",
       "    .dataframe tbody tr th:only-of-type {\n",
       "        vertical-align: middle;\n",
       "    }\n",
       "\n",
       "    .dataframe tbody tr th {\n",
       "        vertical-align: top;\n",
       "    }\n",
       "\n",
       "    .dataframe thead th {\n",
       "        text-align: right;\n",
       "    }\n",
       "</style>\n",
       "<table border=\"1\" class=\"dataframe\">\n",
       "  <thead>\n",
       "    <tr style=\"text-align: right;\">\n",
       "      <th></th>\n",
       "      <th>id</th>\n",
       "      <th>track_name</th>\n",
       "      <th>size_bytes</th>\n",
       "      <th>app_desc</th>\n",
       "    </tr>\n",
       "  </thead>\n",
       "  <tbody>\n",
       "    <tr>\n",
       "      <th>0</th>\n",
       "      <td>281656475</td>\n",
       "      <td>PAC-MAN Premium</td>\n",
       "      <td>100788224</td>\n",
       "      <td>SAVE 20%, now only $3.99 for a limited time!\\n...</td>\n",
       "    </tr>\n",
       "    <tr>\n",
       "      <th>1</th>\n",
       "      <td>281796108</td>\n",
       "      <td>Evernote - stay organized</td>\n",
       "      <td>158578688</td>\n",
       "      <td>Let Evernote change the way you organize your ...</td>\n",
       "    </tr>\n",
       "    <tr>\n",
       "      <th>2</th>\n",
       "      <td>281940292</td>\n",
       "      <td>WeatherBug - Local Weather, Radar, Maps, Alerts</td>\n",
       "      <td>100524032</td>\n",
       "      <td>Download the most popular free weather app pow...</td>\n",
       "    </tr>\n",
       "    <tr>\n",
       "      <th>3</th>\n",
       "      <td>282614216</td>\n",
       "      <td>eBay: Best App to Buy, Sell, Save! Online Shop...</td>\n",
       "      <td>128512000</td>\n",
       "      <td>The eBay app is the best way to find anything ...</td>\n",
       "    </tr>\n",
       "    <tr>\n",
       "      <th>4</th>\n",
       "      <td>282935706</td>\n",
       "      <td>Bible</td>\n",
       "      <td>92774400</td>\n",
       "      <td>On more than 250 million devices around the wo...</td>\n",
       "    </tr>\n",
       "    <tr>\n",
       "      <th>...</th>\n",
       "      <td>...</td>\n",
       "      <td>...</td>\n",
       "      <td>...</td>\n",
       "      <td>...</td>\n",
       "    </tr>\n",
       "    <tr>\n",
       "      <th>7192</th>\n",
       "      <td>1187617475</td>\n",
       "      <td>Kubik</td>\n",
       "      <td>126644224</td>\n",
       "      <td>Place the falling blocks correctly in order to...</td>\n",
       "    </tr>\n",
       "    <tr>\n",
       "      <th>7193</th>\n",
       "      <td>1187682390</td>\n",
       "      <td>VR Roller-Coaster</td>\n",
       "      <td>120760320</td>\n",
       "      <td>A thrilling virtual reality roller coaster exp...</td>\n",
       "    </tr>\n",
       "    <tr>\n",
       "      <th>7194</th>\n",
       "      <td>1187779532</td>\n",
       "      <td>Bret Michaels Emojis + Lyric Keyboard</td>\n",
       "      <td>111322112</td>\n",
       "      <td>Rock star Bret Michaels, winner of Celebrity A...</td>\n",
       "    </tr>\n",
       "    <tr>\n",
       "      <th>7195</th>\n",
       "      <td>1187838770</td>\n",
       "      <td>VR Roller Coaster World - Virtual Reality</td>\n",
       "      <td>97235968</td>\n",
       "      <td>VR Roller Coaster World is an app for Google C...</td>\n",
       "    </tr>\n",
       "    <tr>\n",
       "      <th>7196</th>\n",
       "      <td>1188375727</td>\n",
       "      <td>Escape the Sweet Shop Series</td>\n",
       "      <td>90898432</td>\n",
       "      <td>5 previous escape games plus 1 new game in one...</td>\n",
       "    </tr>\n",
       "  </tbody>\n",
       "</table>\n",
       "<p>7197 rows × 4 columns</p>\n",
       "</div>"
      ],
      "text/plain": [
       "              id                                         track_name  \\\n",
       "0      281656475                                    PAC-MAN Premium   \n",
       "1      281796108                          Evernote - stay organized   \n",
       "2      281940292    WeatherBug - Local Weather, Radar, Maps, Alerts   \n",
       "3      282614216  eBay: Best App to Buy, Sell, Save! Online Shop...   \n",
       "4      282935706                                              Bible   \n",
       "...          ...                                                ...   \n",
       "7192  1187617475                                              Kubik   \n",
       "7193  1187682390                                  VR Roller-Coaster   \n",
       "7194  1187779532              Bret Michaels Emojis + Lyric Keyboard   \n",
       "7195  1187838770          VR Roller Coaster World - Virtual Reality   \n",
       "7196  1188375727                       Escape the Sweet Shop Series   \n",
       "\n",
       "      size_bytes                                           app_desc  \n",
       "0      100788224  SAVE 20%, now only $3.99 for a limited time!\\n...  \n",
       "1      158578688  Let Evernote change the way you organize your ...  \n",
       "2      100524032  Download the most popular free weather app pow...  \n",
       "3      128512000  The eBay app is the best way to find anything ...  \n",
       "4       92774400  On more than 250 million devices around the wo...  \n",
       "...          ...                                                ...  \n",
       "7192   126644224  Place the falling blocks correctly in order to...  \n",
       "7193   120760320  A thrilling virtual reality roller coaster exp...  \n",
       "7194   111322112  Rock star Bret Michaels, winner of Celebrity A...  \n",
       "7195    97235968  VR Roller Coaster World is an app for Google C...  \n",
       "7196    90898432  5 previous escape games plus 1 new game in one...  \n",
       "\n",
       "[7197 rows x 4 columns]"
      ]
     },
     "execution_count": 2,
     "metadata": {},
     "output_type": "execute_result"
    }
   ],
   "source": [
    "description = pd.read_csv(\"appleStore_description.csv\")\n",
    "description"
   ]
  },
  {
   "cell_type": "markdown",
   "metadata": {},
   "source": [
    "1. Implement an embedding function\n",
    "2. Make the embedding function compatible with Chromadb\n",
    "3. Insert embeddings into Chromadb(Run with GPU support is prefereed.)\n",
    "4. Query documents with vector database."
   ]
  },
  {
   "cell_type": "code",
   "execution_count": 3,
   "metadata": {},
   "outputs": [
    {
     "name": "stderr",
     "output_type": "stream",
     "text": [
      "Embedding Batches: 100%|██████████| 29/29 [00:57<00:00,  1.98s/it]\n"
     ]
    },
    {
     "name": "stdout",
     "output_type": "stream",
     "text": [
      "Successful added to collection\n"
     ]
    }
   ],
   "source": [
    "sentences = description.app_desc.tolist()\n",
    "\n",
    "# initialize an embedder\n",
    "embedder = SentenceEmbedder(mps = True, batch_size=256)\n",
    "\n",
    "# make a chromma db compatible embedder\n",
    "chroma_embedder = make_chroma(embedder)\n",
    "\n",
    "# initialize the database\n",
    "embeded_sentences = embedder(sentences)\n",
    "\n",
    "# create client\n",
    "chroma_client = chromadb.PersistentClient(path='./chroma_storage')\n",
    "\n",
    "# create a collection\n",
    "collection = chroma_client.create_collection(\n",
    "    name=\"app\", \n",
    "    embedding_function=chroma_embedder, \n",
    "    metadata={\"hnsw:space\": \"cosine\"})\n",
    "\n",
    "# insert data into chromadb collection\n",
    "insert_df_collection(\n",
    "    collection,\n",
    "    embeded_sentences, \n",
    "    description, \n",
    "    'app_desc', \n",
    "    'id', \n",
    "    meta_cols = ['track_name']\n",
    ")\n"
   ]
  },
  {
   "cell_type": "code",
   "execution_count": 4,
   "metadata": {},
   "outputs": [
    {
     "name": "stdout",
     "output_type": "stream",
     "text": [
      "Using http proxy: http://127.0.0.1:8001\n",
      "Turn on VPN with corresponding proxy.\n"
     ]
    }
   ],
   "source": [
    "import chromadb\n",
    "from nlp_toolkit import (\n",
    "    set_proxy,\n",
    "    SentenceEmbedder,\n",
    "    make_chroma,\n",
    "    update_metafield\n",
    ")\n",
    "\n",
    "set_proxy()\n",
    "\n",
    "embedder = SentenceEmbedder(mps = True, batch_size=256)\n",
    "\n",
    "chroma_embedder = make_chroma(embedder)\n",
    "\n",
    "chroma_client = chromadb.PersistentClient(path='./chroma_storage')\n",
    "\n",
    "collection = chroma_client.get_collection(name=\"app\", embedding_function=chroma_embedder)"
   ]
  },
  {
   "cell_type": "code",
   "execution_count": 5,
   "metadata": {},
   "outputs": [
    {
     "name": "stderr",
     "output_type": "stream",
     "text": [
      "Embedding Batches: 100%|██████████| 1/1 [00:00<00:00,  1.10it/s]\n"
     ]
    },
    {
     "data": {
      "text/plain": [
       "[[{'track_name': 'TonalEnergy Chromatic Tuner and Metronome'},\n",
       "  {'track_name': 'iReal Pro - Music Book & Play Along'},\n",
       "  {'track_name': 'Easy Music - Give kids an ear for music'},\n",
       "  {'track_name': 'PrestoBand Guitar and Piano'},\n",
       "  {'track_name': 'Piano - Play Keyboard Music Games with Magic Tiles'},\n",
       "  {'track_name': 'ABRSM Aural Trainer Grades 1-5'},\n",
       "  {'track_name': 'Magic Piano by Smule'},\n",
       "  {'track_name': 'Free Piano app by Yokee'},\n",
       "  {'track_name': 'SOUND Canvas'},\n",
       "  {'track_name': 'Mastering the piano with Lang Lang'},\n",
       "  {'track_name': 'Final Guitar - absolute guitar app'},\n",
       "  {'track_name': 'Guitar Suite - Metronome, Tuner, and Chords Library for Guitar, Bass, Ukulele'},\n",
       "  {'track_name': 'Tongo Music - for kids and families'},\n",
       "  {'track_name': 'QQ音乐-来这里“发现・音乐”'},\n",
       "  {'track_name': 'OnSong'},\n",
       "  {'track_name': 'Music Memos'},\n",
       "  {'track_name': 'Cytus'},\n",
       "  {'track_name': 'Musicloud Pro - MP3 and FLAC Music Player for Cloud Platforms.'},\n",
       "  {'track_name': 'Musicloud - MP3 and FLAC Music Player for Cloud Platforms.'},\n",
       "  {'track_name': 'Epic Orchestra'}]]"
      ]
     },
     "execution_count": 5,
     "metadata": {},
     "output_type": "execute_result"
    }
   ],
   "source": [
    "results = collection.query(\n",
    "    query_texts=[\"music music score, instrument, guitar, piano, bass, band, sound, tunning, scale,\"],\n",
    "    n_results=20,\n",
    ")\n",
    "\n",
    "results['metadatas']"
   ]
  },
  {
   "cell_type": "code",
   "execution_count": 6,
   "metadata": {},
   "outputs": [
    {
     "name": "stderr",
     "output_type": "stream",
     "text": [
      "Embedding Batches: 100%|██████████| 1/1 [00:00<00:00,  1.38it/s]\n"
     ]
    },
    {
     "data": {
      "text/plain": [
       "[[{'track_name': 'A New Life'},\n",
       "  {'track_name': 'Hey! VINA - Where Women Meet New Friends'},\n",
       "  {'track_name': 'Live.me – Live Video Chat & Make Friends Nearby'},\n",
       "  {'track_name': 'Match™ - #1 Dating App.'},\n",
       "  {'track_name': 'Hero Generations'},\n",
       "  {'track_name': 'Cougar Dating & Life Style App for Mature Women'},\n",
       "  {'track_name': 'My Virtual Girlfriend - Deluxe Dating Sim'},\n",
       "  {'track_name': 'Dice Mania - Play Free Online Classic Board Game with Friends'},\n",
       "  {'track_name': 'Mystic Messenger'},\n",
       "  {'track_name': 'HARVEST MOON: Seeds Of Memories'},\n",
       "  {'track_name': 'Megapolis'},\n",
       "  {'track_name': 'Suppin Detective: Expose their true visage!'},\n",
       "  {'track_name': 'eHarmony™ Dating App - Meet Singles'},\n",
       "  {'track_name': 'Beast Poker'},\n",
       "  {'track_name': 'Face Up - The Selfie Game'},\n",
       "  {'track_name': 'Village Life: Love, Marriage and Babies'},\n",
       "  {'track_name': 'happn — Dating app — Find and meet your crush'},\n",
       "  {'track_name': 'Toca Life: City'},\n",
       "  {'track_name': 'Century City'},\n",
       "  {'track_name': 'The Sims™ FreePlay'},\n",
       "  {'track_name': \"Where's My What? Free\"},\n",
       "  {'track_name': 'LEGO® Friends'},\n",
       "  {'track_name': 'SimCity BuildIt'},\n",
       "  {'track_name': '心の美男美女診断'},\n",
       "  {'track_name': 'Motorsport Manager'},\n",
       "  {'track_name': 'Tantan'},\n",
       "  {'track_name': 'Stick Soccer 2'},\n",
       "  {'track_name': 'LINE PLAY - Your Avatar World'},\n",
       "  {'track_name': 'TV App'},\n",
       "  {'track_name': 'Level: A Simple Puzzle Game'}]]"
      ]
     },
     "execution_count": 6,
     "metadata": {},
     "output_type": "execute_result"
    }
   ],
   "source": [
    "results = collection.query(\n",
    "    query_texts=[\"sex, meet friends in your city, social, make love, communication, marry, marriage, single\"],\n",
    "    n_results=30,\n",
    ")\n",
    "\n",
    "results['metadatas']"
   ]
  },
  {
   "cell_type": "code",
   "execution_count": 7,
   "metadata": {},
   "outputs": [],
   "source": [
    "from nlp_toolkit import mean_seed_query"
   ]
  },
  {
   "cell_type": "code",
   "execution_count": 15,
   "metadata": {},
   "outputs": [
    {
     "data": {
      "text/plain": [
       "[[{'track_name': 'Hey! VINA - Where Women Meet New Friends'},\n",
       "  {'track_name': 'Live.me – Live Video Chat & Make Friends Nearby'},\n",
       "  {'track_name': 'A New Life'},\n",
       "  {'track_name': 'Match™ - #1 Dating App.'},\n",
       "  {'track_name': 'Hero Generations'},\n",
       "  {'track_name': 'Cougar Dating & Life Style App for Mature Women'},\n",
       "  {'track_name': 'Toca Life: City'},\n",
       "  {'track_name': 'The Sims™ FreePlay'},\n",
       "  {'track_name': 'Meipai'},\n",
       "  {'track_name': 'Dice With Buddies: Fun New Social Dice Game'},\n",
       "  {'track_name': 'LINE PLAY - Your Avatar World'},\n",
       "  {'track_name': 'Super Fashion Show - Girls Makeup, Dressup Games'},\n",
       "  {'track_name': 'Village Life: Love, Marriage and Babies'},\n",
       "  {'track_name': 'Builder Buddies: 3D City Building Simulator'},\n",
       "  {'track_name': 'ReRunners: Race for the World'},\n",
       "  {'track_name': 'Toca Life: Town'},\n",
       "  {'track_name': 'Grindr - Gay and same sex guys chat, meet and date'},\n",
       "  {'track_name': 'The Game of Life'},\n",
       "  {'track_name': 'Whispered Secrets: Into the Beyond - A Hidden Object Adventure (Full)'},\n",
       "  {'track_name': 'Craft your games! - Createrria 2'},\n",
       "  {'track_name': \"Immortal Love: Letter From The Past Collector's Edition - A Magical Hidden Object Game (Full)\"},\n",
       "  {'track_name': 'My Virtual Girlfriend - Deluxe Dating Sim'},\n",
       "  {'track_name': 'Small World 2'},\n",
       "  {'track_name': 'Words with Friends – Best Word Game'},\n",
       "  {'track_name': 'Face Up - The Selfie Game'},\n",
       "  {'track_name': 'Youtubers Life - Gaming Channel'},\n",
       "  {'track_name': 'Gardenscapes - New Acres'},\n",
       "  {'track_name': 'World of Cubes Survival Craft'},\n",
       "  {'track_name': 'Dragon Mania Legends: Dragon Breeding Game'},\n",
       "  {'track_name': 'Virtual Families'},\n",
       "  {'track_name': 'Zodiac: Orcanon Odyssey'},\n",
       "  {'track_name': 'Sweet Princess Makeup Party - Girls Dressup Games'},\n",
       "  {'track_name': 'It Girl Story - Styling, Fashion & Celebrity Life'},\n",
       "  {'track_name': 'Lifeline 2'},\n",
       "  {'track_name': 'MeiCam -  Video Production Master'},\n",
       "  {'track_name': 'Waking Mars'},\n",
       "  {'track_name': 'eHarmony™ Dating App - Meet Singles'},\n",
       "  {'track_name': 'Order & Chaos 2: 3D MMO RPG Online Game'},\n",
       "  {'track_name': 'MeetMe - Chat and Meet New People'},\n",
       "  {'track_name': 'LEGO® Friends'},\n",
       "  {'track_name': 'MASH'},\n",
       "  {'track_name': 'Mystery Case Files: 13th Skull HD - A Hidden Object Adventure (Full)'},\n",
       "  {'track_name': 'CLUE Bingo: Valentine’s Day'},\n",
       "  {'track_name': \"Candy's Vacation - Beach Hotel\"},\n",
       "  {'track_name': 'Battle Camp HD - Collect & Evolve Your Monsters'},\n",
       "  {'track_name': 'My Talking Tom'},\n",
       "  {'track_name': 'The Sims 3'},\n",
       "  {'track_name': 'BOO! - Video chat camera with filters & stickers'},\n",
       "  {'track_name': 'Redemption Cemetery: Clock of Fate - A Mystery Hidden Object Game (Full)'},\n",
       "  {'track_name': 'Prison Life RPG'}]]"
      ]
     },
     "execution_count": 15,
     "metadata": {},
     "output_type": "execute_result"
    }
   ],
   "source": [
    "seed_apps = ['1093776653', '1043337296', '1089836344', '305939712', '1072881532']\n",
    "\n",
    "mean_seed_query(collection, seed_apps,n =50)['metadatas']"
   ]
  },
  {
   "cell_type": "code",
   "execution_count": 16,
   "metadata": {},
   "outputs": [
    {
     "name": "stderr",
     "output_type": "stream",
     "text": [
      "Embedding Batches: 100%|██████████| 1/1 [00:00<00:00,  1.34it/s]\n"
     ]
    },
    {
     "data": {
      "text/plain": [
       "[[{'track_name': 'Match™ - #1 Dating App.'},\n",
       "  {'track_name': 'Hey! VINA - Where Women Meet New Friends'},\n",
       "  {'track_name': 'Cougar Dating & Life Style App for Mature Women'},\n",
       "  {'track_name': 'eHarmony™ Dating App - Meet Singles'},\n",
       "  {'track_name': 'Bumble – Find a Date, Meet Friends & Network'},\n",
       "  {'track_name': 'MeetMe - Chat and Meet New People'},\n",
       "  {'track_name': 'Grindr - Gay and same sex guys chat, meet and date'},\n",
       "  {'track_name': 'POF - Best Dating App for Conversations'},\n",
       "  {'track_name': 'Tinder'},\n",
       "  {'track_name': 'Badoo - Meet New People, Chat, Socialize.'},\n",
       "  {'track_name': 'IAmNaughty – Dating App to Meet New People Online'},\n",
       "  {'track_name': 'happn — Dating app — Find and meet your crush'},\n",
       "  {'track_name': \"Kitty Powers' Matchmaker\"},\n",
       "  {'track_name': 'It Girl Story - Styling, Fashion & Celebrity Life'},\n",
       "  {'track_name': 'Live.me – Live Video Chat & Make Friends Nearby'},\n",
       "  {'track_name': 'Tantan'},\n",
       "  {'track_name': 'TETRIS® FREE'},\n",
       "  {'track_name': 'LongStory: Choose your own dating game'},\n",
       "  {'track_name': \"Tom's Love Letters\"},\n",
       "  {'track_name': 'Nicki Minaj: The Empire'},\n",
       "  {'track_name': 'vente-privee'},\n",
       "  {'track_name': 'LOVOO - Dating Chat'},\n",
       "  {'track_name': 'Find my Fitbit - Finder app for lost fitbits'},\n",
       "  {'track_name': 'My Virtual Girlfriend - Deluxe Dating Sim'},\n",
       "  {'track_name': 'CLUE Bingo: Valentine’s Day'},\n",
       "  {'track_name': 'Tom Loves Angela'},\n",
       "  {'track_name': 'Tom Loves Angela for iPad'},\n",
       "  {'track_name': 'Groupon - Deals, Coupons & Discount Shopping App'},\n",
       "  {'track_name': 'WeChat'},\n",
       "  {'track_name': 'Hotels & Vacation Rentals by Booking.com'},\n",
       "  {'track_name': 'Weibo HD'},\n",
       "  {'track_name': 'DOUBUTSU URANAI®-Animal Fortune-'},\n",
       "  {'track_name': 'Love and Hip Hop The Game'},\n",
       "  {'track_name': 'My Talking Angela'},\n",
       "  {'track_name': 'Kendall and Kylie'},\n",
       "  {'track_name': 'Crazy Cake Swap'},\n",
       "  {'track_name': 'TownWiFi - WiFi Everywhere'},\n",
       "  {'track_name': 'Talking Tom Bubble Shooter'},\n",
       "  {'track_name': 'Mystic Messenger'},\n",
       "  {'track_name': 'Dice With Buddies: Fun New Social Dice Game'},\n",
       "  {'track_name': 'Weibo'},\n",
       "  {'track_name': 'Wedding Dash Deluxe'},\n",
       "  {'track_name': 'MASH'},\n",
       "  {'track_name': 'MY LITTLE PONY: Magic Princess Quests'},\n",
       "  {'track_name': 'Talking Angela for iPad'},\n",
       "  {'track_name': 'Rota Calendar - Work Shift Manager'},\n",
       "  {'track_name': 'Tango - Free Video Call, Voice and Chat'},\n",
       "  {'track_name': 'Viber Messenger – Text & Call'},\n",
       "  {'track_name': 'QuizUp™'},\n",
       "  {'track_name': 'Kylie Jenner Official App'}]]"
      ]
     },
     "execution_count": 16,
     "metadata": {},
     "output_type": "execute_result"
    }
   ],
   "source": [
    "from nlp_toolkit import concat_text_query\n",
    "\n",
    "concat_text_query(collection, seed_apps,n =50)['metadatas']"
   ]
  },
  {
   "cell_type": "code",
   "execution_count": 19,
   "metadata": {},
   "outputs": [
    {
     "name": "stderr",
     "output_type": "stream",
     "text": [
      "Embedding Batches: 100%|██████████| 1/1 [00:00<00:00,  8.28it/s]\n"
     ]
    },
    {
     "data": {
      "text/plain": [
       "[[{'track_name': 'TED'},\n",
       "  {'track_name': 'Vlogger Go Viral - Clicker Game & Vlog Simulator'},\n",
       "  {'track_name': 'BuzzFeed Video'},\n",
       "  {'track_name': 'Talking Tom & Ben News for iPad'},\n",
       "  {'track_name': 'Disney XD – Watch Full Episodes, Movies & Live TV'},\n",
       "  {'track_name': 'YouTube Kids'},\n",
       "  {'track_name': 'Disney Channel – Watch Full Episodes, Movies & TV'},\n",
       "  {'track_name': 'Fullscreen'},\n",
       "  {'track_name': 'Hoodclips'},\n",
       "  {'track_name': 'Disney LOL'}]]"
      ]
     },
     "execution_count": 19,
     "metadata": {},
     "output_type": "execute_result"
    }
   ],
   "source": [
    "collection.query(query_texts=['videos, movies, tv shows, talk show'])['metadatas']"
   ]
  },
  {
   "cell_type": "code",
   "execution_count": 20,
   "metadata": {},
   "outputs": [
    {
     "name": "stdout",
     "output_type": "stream",
     "text": [
      "Update metdata successfully.\n"
     ]
    }
   ],
   "source": [
    "update_metafield(collection, ids = None, label = \"unknown\")"
   ]
  },
  {
   "cell_type": "code",
   "execution_count": 22,
   "metadata": {},
   "outputs": [
    {
     "data": {
      "text/plain": [
       "[{'label': 'unknown',\n",
       "  'track_name': 'PAC-MAN Premium',\n",
       "  'update_time': '2023-10-31 22:43:48'},\n",
       " {'label': 'unknown',\n",
       "  'track_name': 'Evernote - stay organized',\n",
       "  'update_time': '2023-10-31 22:43:48'},\n",
       " {'label': 'unknown',\n",
       "  'track_name': 'WeatherBug - Local Weather, Radar, Maps, Alerts',\n",
       "  'update_time': '2023-10-31 22:43:48'},\n",
       " {'label': 'unknown',\n",
       "  'track_name': 'eBay: Best App to Buy, Sell, Save! Online Shopping',\n",
       "  'update_time': '2023-10-31 22:43:48'},\n",
       " {'label': 'unknown',\n",
       "  'track_name': 'Bible',\n",
       "  'update_time': '2023-10-31 22:43:48'},\n",
       " {'label': 'unknown',\n",
       "  'track_name': 'Shanghai Mahjong',\n",
       "  'update_time': '2023-10-31 22:43:48'},\n",
       " {'label': 'unknown',\n",
       "  'track_name': 'PayPal - Send and request money safely',\n",
       "  'update_time': '2023-10-31 22:43:48'},\n",
       " {'label': 'unknown',\n",
       "  'track_name': 'Pandora - Music & Radio',\n",
       "  'update_time': '2023-10-31 22:43:48'},\n",
       " {'label': 'unknown',\n",
       "  'track_name': 'PCalc - The Best Calculator',\n",
       "  'update_time': '2023-10-31 22:43:48'},\n",
       " {'label': 'unknown',\n",
       "  'track_name': 'Ms. PAC-MAN',\n",
       "  'update_time': '2023-10-31 22:43:48'}]"
      ]
     },
     "execution_count": 22,
     "metadata": {},
     "output_type": "execute_result"
    }
   ],
   "source": [
    "collection.get(limit = 10)['metadatas']"
   ]
  }
 ],
 "metadata": {
  "kernelspec": {
   "display_name": "base",
   "language": "python",
   "name": "python3"
  },
  "language_info": {
   "codemirror_mode": {
    "name": "ipython",
    "version": 3
   },
   "file_extension": ".py",
   "mimetype": "text/x-python",
   "name": "python",
   "nbconvert_exporter": "python",
   "pygments_lexer": "ipython3",
   "version": "3.10.9"
  }
 },
 "nbformat": 4,
 "nbformat_minor": 2
}
